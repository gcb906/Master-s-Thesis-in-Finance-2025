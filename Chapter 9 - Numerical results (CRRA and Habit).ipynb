{
 "cells": [
  {
   "cell_type": "code",
   "execution_count": 2,
   "metadata": {},
   "outputs": [],
   "source": [
    "import pandas as pd\n",
    "import numpy as np\n",
    "from scipy.integrate import quad\n",
    "import itertools"
   ]
  },
  {
   "cell_type": "markdown",
   "metadata": {},
   "source": [
    "# Constant market (CRRA and Habit)"
   ]
  },
  {
   "cell_type": "code",
   "execution_count": 131,
   "metadata": {},
   "outputs": [
    {
     "name": "stdout",
     "output_type": "stream",
     "text": [
      " h  gamma  T  alpha  beta  stock_weight_%  cash_weight_%  stock/cash ratio\n",
      " 0      5  5      0     0            30.0           70.0          0.428571\n"
     ]
    }
   ],
   "source": [
    "# Fixed parameters\n",
    "t = 0\n",
    "W = 1000\n",
    "delta = 0.02\n",
    "\n",
    "_lambda = 0.3\n",
    "sigma = 0.2\n",
    "r = 0.04\n",
    "\n",
    "# Functions\n",
    "def F(t, T, r, alpha, beta): # Needed for habit utility\n",
    "    return (1 - np.exp(-(r + beta - alpha)*(T - t))) / (r + beta - alpha) \n",
    "\n",
    "def compute_allocation(h, gamma, T, alpha, beta): # Computes optimal allocation in the risky assets - in general form works for habit. Choose alpha, beta and h = 0 for CRRA\n",
    "    f_val = F(t, T, r, alpha, beta)\n",
    "    aktieandel = (_lambda / (gamma * sigma)) * (W - h * f_val) / W\n",
    "    return aktieandel\n",
    "\n",
    "# Parameter ranges\n",
    "hs = [0]\n",
    "gammas = [5]\n",
    "Ts = [5]\n",
    "alphas = [0]\n",
    "betas = [0]\n",
    "\n",
    "# Simulation\n",
    "results = []\n",
    "\n",
    "for h, gamma, T, alpha, beta in itertools.product(hs, gammas, Ts, alphas, betas):\n",
    "    aktieandel = compute_allocation(h, gamma, T, alpha, beta)\n",
    "    cash_position = 1 - aktieandel\n",
    "    results.append({\n",
    "        'h': h,\n",
    "        'gamma': gamma,\n",
    "        'T': T,\n",
    "        'alpha': alpha,\n",
    "        'beta': beta,\n",
    "        'stock_weight_%': round(aktieandel * 100, 2),\n",
    "        'cash_weight_%': round(cash_position * 100, 2),\n",
    "        'stock/cash ratio': aktieandel/cash_position\n",
    "    })\n",
    "\n",
    "# Output\n",
    "df_results = pd.DataFrame(results)\n",
    "print(df_results.to_string(index=False))"
   ]
  },
  {
   "cell_type": "markdown",
   "metadata": {},
   "source": [
    "# Stochastic market (CRRA and Habit)"
   ]
  },
  {
   "cell_type": "code",
   "execution_count": 3,
   "metadata": {},
   "outputs": [
    {
     "name": "stdout",
     "output_type": "stream",
     "text": [
      "Myopic weight (%): 28.8\n",
      "Hedging weight (%): 17.5\n",
      "Total stock weight (%): 46.3\n",
      "Cash weight (%): 53.7\n",
      "Hedging-to-myopic ratio: 0.61\n"
     ]
    }
   ],
   "source": [
    "# Parameters\n",
    "t = 0 \n",
    "W = 1000\n",
    "delta = 0.02 \n",
    "kappa = 0.3\n",
    "\n",
    "gamma = 5\n",
    "\n",
    "T = 10 \n",
    "r = 0.04\n",
    "\n",
    "Lambda = 0.3\n",
    "Lambda_cap = 0.3\n",
    "\n",
    "Sigma = 0.2 #sigma lambda\n",
    "sigma = 0.2\n",
    "\n",
    "h = 5\n",
    "alpha = 0\n",
    "beta = 0\n",
    "\n",
    "# Auxiliary functions\n",
    "b = kappa - (1 - 1/gamma) * Sigma\n",
    "theta = np.sqrt(b**2 - (Sigma**2 * (1 - gamma)) / gamma**2)\n",
    "\n",
    "def A0(t, T):\n",
    "    term1 = -(delta / gamma) * (T - t)\n",
    "    term2 = -r * (1 - 1/gamma) * (T - t)\n",
    "    term3 = -0.5 * np.log((2 * theta - (theta - b) * (1 - np.exp(-2 * theta * (T - t)))) / (2 * theta))\n",
    "    term4 = ((1 - gamma) / (2 * gamma**2)) * (\n",
    "        ((kappa**2 * Lambda_cap**2) / theta**2 + Sigma**2 / (theta + b)) * (T - t) +\n",
    "        ((kappa**2 * Lambda_cap**2) / theta**3) *\n",
    "        ((theta - 2 * b) * np.exp(-2 * theta * (T - t)) + 4 * b * np.exp(-theta * (T - t)) - theta - 2 * b) /\n",
    "        (2 * theta - (theta - b) * (1 - np.exp(-2 * theta * (T - t))))\n",
    "    )\n",
    "    return term1 + term2 + term3 + term4\n",
    "\n",
    "def A1(t, T):\n",
    "    return ((1 - gamma) / gamma**2) * (kappa * Lambda_cap / theta) * ((1 - np.exp(-theta * (T - t)))**2) / \\\n",
    "           (2 * theta - (theta - b) * (1 - np.exp(-2 * theta * (T - t))))\n",
    "\n",
    "def A2(t, T):\n",
    "    return ((1 - gamma) / gamma**2) * (1 - np.exp(-2 * theta * (T - t))) / \\\n",
    "           (2 * theta - (theta - b) * (1 - np.exp(-2 * theta * (T - t))))\n",
    "\n",
    "def F(t, T):\n",
    "    return (1 - np.exp(-(r + beta - alpha) * (T - t))) / (r + beta - alpha)\n",
    "\n",
    "def numerator_D1(t, T):\n",
    "    integrand = lambda s: (A1(t, s) + A2(t, s) * Lambda) * (1 + alpha * F(s, T))**(1 - 1/gamma) * \\\n",
    "               np.exp(A0(t, s) + A1(t, s) * Lambda + 0.5 * A2(t, s) * Lambda**2)\n",
    "    result, _ = quad(integrand, t, T, limit=200)\n",
    "    return result\n",
    "\n",
    "def denominator_D1(t, T):\n",
    "    integrand = lambda s: (1 + alpha * F(s, T))**(1 - 1/gamma) * \\\n",
    "               np.exp(A0(t, s) + A1(t, s) * Lambda + 0.5 * A2(t, s) * Lambda**2)\n",
    "    result, _ = quad(integrand, t, T, limit=200)\n",
    "    return result\n",
    "\n",
    "def D1(t, T):\n",
    "    return numerator_D1(t, T) / denominator_D1(t, T)\n",
    "\n",
    "# Safe ratio calculation function\n",
    "def safe_divide(numerator, denominator):\n",
    "    if np.isclose(denominator, 0):\n",
    "        return 0\n",
    "    else:\n",
    "        return numerator / denominator\n",
    "\n",
    "# Portfolio weights\n",
    "my = Lambda / (gamma * sigma) * (W - h * F(t, T)) / W\n",
    "hed = -(Sigma / sigma) * D1(t, T) * (W - h * F(t, T)) / W\n",
    "\n",
    "# Total stock weight\n",
    "total_stock_weight = my + hed\n",
    "\n",
    "# Cash weight\n",
    "cash_weight = 1 - total_stock_weight\n",
    "\n",
    "# Safe Ratios\n",
    "myopic_hedging_ratio = safe_divide(hed, my)\n",
    "\n",
    "# Print results\n",
    "print(f\"Myopic weight (%): {my*100:.1f}\")\n",
    "print(f\"Hedging weight (%): {hed*100:.1f}\")\n",
    "print(f\"Total stock weight (%): {total_stock_weight*100:.1f}\")\n",
    "print(f\"Cash weight (%): {cash_weight*100:.1f}\")\n",
    "print(f\"Hedging-to-myopic ratio: {myopic_hedging_ratio:.2f}\")\n"
   ]
  }
 ],
 "metadata": {
  "kernelspec": {
   "display_name": "base",
   "language": "python",
   "name": "python3"
  },
  "language_info": {
   "codemirror_mode": {
    "name": "ipython",
    "version": 3
   },
   "file_extension": ".py",
   "mimetype": "text/x-python",
   "name": "python",
   "nbconvert_exporter": "python",
   "pygments_lexer": "ipython3",
   "version": "3.12.7"
  }
 },
 "nbformat": 4,
 "nbformat_minor": 2
}
