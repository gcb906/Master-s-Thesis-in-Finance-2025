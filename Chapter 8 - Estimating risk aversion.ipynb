{
 "cells": [
  {
   "cell_type": "markdown",
   "id": "1701ec1a",
   "metadata": {},
   "source": [
    "# Importing data from Yahoo Finance for S&P500 and MSCI World, and calculating data moments"
   ]
  },
  {
   "cell_type": "code",
   "execution_count": null,
   "id": "b817a59c",
   "metadata": {},
   "outputs": [
    {
     "name": "stderr",
     "output_type": "stream",
     "text": [
      "[*********************100%***********************]  2 of 2 completed"
     ]
    },
    {
     "name": "stdout",
     "output_type": "stream",
     "text": [
      "=== Moments ===\n",
      "        Mean  Variance  Volatility  Skewness  Kurtosis\n",
      "SPY   0.0996    0.0223      0.1493   -0.7516    4.3397\n",
      "URTH  0.1052    0.0204      0.1428   -0.5961    3.9638\n",
      "\n",
      "=== Standard Errors ===\n",
      "      Mean SE  Variance SE  Volatility SE  Skewness SE  Kurtosis SE\n",
      "SPY    0.0076       0.0016         0.0054       0.1252       0.2503\n",
      "URTH   0.0115       0.0023         0.0081       0.1967       0.3935\n",
      "\n",
      "=== 95% Confidence Intervals ===\n",
      "           Mean 95% CI   Variance 95% CI Volatility 95% CI  \\\n",
      "SPY   (0.0846, 0.1145)  (0.0191, 0.0254)  (0.1387, 0.1599)   \n",
      "URTH  (0.0827, 0.1276)  (0.0158, 0.0249)  (0.1269, 0.1586)   \n",
      "\n",
      "         Skewness 95% CI   Kurtosis 95% CI  \n",
      "SPY   (-0.9969, -0.5063)  (3.8490, 4.8303)  \n",
      "URTH  (-0.9817, -0.2104)  (3.1925, 4.7350)  \n"
     ]
    },
    {
     "name": "stderr",
     "output_type": "stream",
     "text": [
      "\n"
     ]
    }
   ],
   "source": [
    "import numpy as np\n",
    "import pandas as pd\n",
    "import yfinance as yf\n",
    "from scipy.stats import skew, kurtosis\n",
    "import warnings\n",
    "\n",
    "warnings.filterwarnings(\"ignore\")\n",
    "\n",
    "# SET risk-free rate here\n",
    "rf = 0.039\n",
    "alpha = 1.0  # full investment\n",
    "\n",
    "# Fetch data\n",
    "tickers = ['SPY', 'URTH']\n",
    "data = yf.download(tickers, start='1993-01-01', end='2024-12-31')['Close'].resample('M').last()\n",
    "\n",
    "# Compute log returns per ticker independently\n",
    "log_returns = pd.concat([\n",
    "    np.log(data[ticker] / data[ticker].shift(1)).rename(ticker)\n",
    "    for ticker in tickers\n",
    "], axis=1)\n",
    "\n",
    "n = log_returns.count()\n",
    "\n",
    "# Annualized moments\n",
    "mean_log = log_returns.mean() * 12\n",
    "variance_log = log_returns.var() * 12\n",
    "volatility_log = np.sqrt(variance_log)\n",
    "skewness = log_returns.apply(skew, nan_policy='omit')\n",
    "kurtosis_ = log_returns.apply(kurtosis, nan_policy='omit', fisher=False)\n",
    "\n",
    "# Standard errors\n",
    "se_mean = volatility_log / np.sqrt(n)\n",
    "se_variance = variance_log * np.sqrt(2 / n)\n",
    "se_volatility = se_variance / (2 * volatility_log)\n",
    "se_skewness = np.sqrt(6 / n)\n",
    "se_kurtosis = np.sqrt(24 / n)\n",
    "\n",
    "# Tables\n",
    "moments_df = pd.DataFrame({\n",
    "    'Mean': mean_log,\n",
    "    'Variance': variance_log,\n",
    "    'Volatility': volatility_log,\n",
    "    'Skewness': skewness,\n",
    "    'Kurtosis': kurtosis_\n",
    "}, index=tickers)\n",
    "\n",
    "se_df = pd.DataFrame({\n",
    "    'Mean SE': se_mean,\n",
    "    'Variance SE': se_variance,\n",
    "    'Volatility SE': se_volatility,\n",
    "    'Skewness SE': se_skewness,\n",
    "    'Kurtosis SE': se_kurtosis\n",
    "}, index=tickers)\n",
    "\n",
    "ci_df = pd.DataFrame({\n",
    "    'Mean 95% CI': [f\"({mean_log[i] - 1.96 * se_mean[i]:.4f}, {mean_log[i] + 1.96 * se_mean[i]:.4f})\" for i in range(len(tickers))],\n",
    "    'Variance 95% CI': [f\"({variance_log[i] - 1.96 * se_variance[i]:.4f}, {variance_log[i] + 1.96 * se_variance[i]:.4f})\" for i in range(len(tickers))],\n",
    "    'Volatility 95% CI': [f\"({volatility_log[i] - 1.96 * se_volatility[i]:.4f}, {volatility_log[i] + 1.96 * se_volatility[i]:.4f})\" for i in range(len(tickers))],\n",
    "    'Skewness 95% CI': [f\"({skewness[i] - 1.96 * se_skewness[i]:.4f}, {skewness[i] + 1.96 * se_skewness[i]:.4f})\" for i in range(len(tickers))],\n",
    "    'Kurtosis 95% CI': [f\"({kurtosis_[i] - 1.96 * se_kurtosis[i]:.4f}, {kurtosis_[i] + 1.96 * se_kurtosis[i]:.4f})\" for i in range(len(tickers))]\n",
    "}, index=tickers)\n",
    "\n",
    "# Construct gamma input\n",
    "gamma_input = pd.DataFrame({\n",
    "    'ticker': tickers,\n",
    "    'rf': rf,\n",
    "    'alpha': alpha,\n",
    "    'er_excess': mean_log - rf,\n",
    "    'sigma': volatility_log,\n",
    "    'skew': skewness,\n",
    "    'kurt': kurtosis_,\n",
    "    'er_excess_lower': mean_log - rf - 1.96 * se_mean,\n",
    "    'er_excess_upper': mean_log - rf + 1.96 * se_mean,\n",
    "    'sigma_lower': volatility_log - 1.96 * se_volatility,\n",
    "    'sigma_upper': volatility_log + 1.96 * se_volatility\n",
    "}).reset_index(drop=True)\n",
    "\n",
    "# Print tables\n",
    "print(\"=== Moments ===\")\n",
    "print(moments_df.round(4))\n",
    "print(\"\\n=== Standard Errors ===\")\n",
    "print(se_df.round(4))\n",
    "print(\"\\n=== 95% Confidence Intervals ===\")\n",
    "print(ci_df)"
   ]
  },
  {
   "cell_type": "markdown",
   "id": "9d77242e",
   "metadata": {},
   "source": [
    "# Investigating the data"
   ]
  },
  {
   "cell_type": "code",
   "execution_count": 136,
   "id": "49aa92ad",
   "metadata": {},
   "outputs": [
    {
     "name": "stdout",
     "output_type": "stream",
     "text": [
      "Ticker\n",
      "SPY    1993-01-31\n",
      "URTH   2012-01-31\n",
      "dtype: datetime64[ns]\n",
      "Ticker\n",
      "SPY     384\n",
      "URTH    156\n",
      "dtype: int64\n"
     ]
    }
   ],
   "source": [
    "first_valid = data.apply(lambda col: col.first_valid_index())\n",
    "print(first_valid)\n",
    "\n",
    "valid_counts = data.count()\n",
    "print(valid_counts)"
   ]
  },
  {
   "cell_type": "markdown",
   "id": "a9e7f59d",
   "metadata": {},
   "source": [
    "# Estimating risk aversion"
   ]
  },
  {
   "cell_type": "code",
   "execution_count": 142,
   "id": "079fbe16",
   "metadata": {},
   "outputs": [
    {
     "name": "stdout",
     "output_type": "stream",
     "text": [
      "\n",
      "=== CRRA Gamma Estimates ===\n",
      "  Ticker  Gamma (Lower CI)  Gamma (Estimate)  Gamma (Upper CI)\n",
      "0    SPY            8.9352           11.0344        14301.4086\n",
      "1   URTH            9.2894           13.8021        12666.5951\n"
     ]
    }
   ],
   "source": [
    "import numpy as np\n",
    "import pandas as pd\n",
    "from scipy.optimize import minimize_scalar\n",
    "\n",
    "# --- Utility function ---\n",
    "def expected_utility(alpha, gamma, rf, er_excess, sigma, skew, kurt):\n",
    "    base = 1 + rf + alpha * er_excess\n",
    "    if base <= 0:\n",
    "        return -np.inf  # Invalid utility\n",
    "\n",
    "    term1 = (base ** (1 - gamma)) / (1 - gamma)\n",
    "    correction2 = -(gamma / 2) * (sigma ** 2) * (alpha ** 2) * base ** (-gamma - 1)\n",
    "    correction3 = (gamma * (1 + gamma) / 6) * (sigma ** 3) * (alpha ** 3) * skew * base ** (-gamma - 2)\n",
    "    correction4 = -(gamma * (1 + gamma) * (2 + gamma) / 24) * (sigma ** 4) * (alpha ** 4) * kurt * base ** (-gamma - 3)\n",
    "\n",
    "    return term1 + correction2 + correction3 + correction4\n",
    "\n",
    "# --- Objective function ---\n",
    "def crra_objective(gamma, rf, er_excess, sigma, skew, kurt, alpha):\n",
    "    return -expected_utility(alpha, gamma, rf, er_excess, sigma, skew, kurt)\n",
    "\n",
    "# --- Gamma estimator ---\n",
    "def estimate_crra(rf, sigma, er_excess, skew, kurt, alpha=1.0):\n",
    "    result = minimize_scalar(\n",
    "        crra_objective,\n",
    "        method='brent',\n",
    "        bracket=(2, 7),\n",
    "        args=(rf, er_excess, sigma, skew, kurt, alpha)\n",
    "    )\n",
    "    return result.x if result.success else np.nan\n",
    "\n",
    "# --- Run estimation for both tickers ---\n",
    "results = []\n",
    "for _, row in gamma_input.iterrows():\n",
    "    rf = float(row['rf'])\n",
    "    alpha = float(row['alpha'])\n",
    "\n",
    "    gamma_mid = estimate_crra(rf, float(row['sigma']), float(row['er_excess']), float(row['skew']), float(row['kurt']), alpha)\n",
    "    gamma_low = estimate_crra(rf, float(row['sigma_upper']), float(row['er_excess_lower']), float(row['skew']), float(row['kurt']), alpha)\n",
    "    gamma_high = estimate_crra(rf, float(row['sigma_lower']), float(row['er_excess_upper']), float(row['skew']), float(row['kurt']), alpha)\n",
    "\n",
    "    results.append({\n",
    "        'Ticker': row['ticker'],\n",
    "        'Gamma (Lower CI)': gamma_low,\n",
    "        'Gamma (Estimate)': gamma_mid,\n",
    "        'Gamma (Upper CI)': gamma_high\n",
    "    })\n",
    "\n",
    "# Output\n",
    "gamma_estimates = pd.DataFrame(results)\n",
    "print(\"\\n=== CRRA Gamma Estimates ===\")\n",
    "print(gamma_estimates.round(4))\n"
   ]
  },
  {
   "cell_type": "code",
   "execution_count": null,
   "id": "40dc99c0",
   "metadata": {},
   "outputs": [
    {
     "name": "stdout",
     "output_type": "stream",
     "text": [
      "\n",
      "=== Annualised Sharpe Ratios ===\n",
      "  Ticker  Sharpe (Lower CI)  Sharpe (Estimate)  Sharpe (Upper CI)\n",
      "0    SPY             0.2852             0.4056             0.5443\n",
      "1   URTH             0.2754             0.4635             0.6987\n"
     ]
    }
   ],
   "source": [
    "# ---------------- Sharpe ratios ----------------\n",
    "# Point estimate\n",
    "gamma_input[\"sharpe_est\"] = gamma_input[\"er_excess\"] / gamma_input[\"sigma\"]\n",
    "\n",
    "# Worst-case within the 95 % CI\n",
    "gamma_input[\"sharpe_low\"] = gamma_input[\"er_excess_lower\"] / gamma_input[\"sigma_upper\"]\n",
    "\n",
    "# Best-case within the 95 % CI\n",
    "gamma_input[\"sharpe_high\"] = gamma_input[\"er_excess_upper\"] / gamma_input[\"sigma_lower\"]\n",
    "\n",
    "# Collect the three ratios in a table\n",
    "sharpe_cols = [\"ticker\", \"sharpe_low\", \"sharpe_est\", \"sharpe_high\"]\n",
    "sharpe_estimates = gamma_input[sharpe_cols].rename(columns={\n",
    "    \"ticker\": \"Ticker\",\n",
    "    \"sharpe_low\": \"Sharpe (Lower CI)\",\n",
    "    \"sharpe_est\": \"Sharpe (Estimate)\",\n",
    "    \"sharpe_high\": \"Sharpe (Upper CI)\"\n",
    "})\n",
    "\n",
    "print(\"\\n=== Annualised Sharpe Ratios ===\")\n",
    "print(sharpe_estimates.round(4))\n"
   ]
  }
 ],
 "metadata": {
  "kernelspec": {
   "display_name": "base",
   "language": "python",
   "name": "python3"
  },
  "language_info": {
   "codemirror_mode": {
    "name": "ipython",
    "version": 3
   },
   "file_extension": ".py",
   "mimetype": "text/x-python",
   "name": "python",
   "nbconvert_exporter": "python",
   "pygments_lexer": "ipython3",
   "version": "3.12.7"
  }
 },
 "nbformat": 4,
 "nbformat_minor": 5
}
